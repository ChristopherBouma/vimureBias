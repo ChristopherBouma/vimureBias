{
 "cells": [
  {
   "cell_type": "markdown",
   "id": "94cda342-2a5f-43f7-9a08-532354886482",
   "metadata": {},
   "source": [
    "**OBJECTIVE:** Replicate two illustrative scenarios we have in the paper of under- and over-reporters \n",
    "\n",
    "**LAST UPDATED:** 27/12/2021\n",
    "\n"
   ]
  },
  {
   "cell_type": "code",
   "execution_count": 1,
   "id": "580b4415-726f-4bb9-b45d-9e5ba8669370",
   "metadata": {
    "execution": {
     "iopub.execute_input": "2021-12-27T15:17:10.778081Z",
     "iopub.status.busy": "2021-12-27T15:17:10.777361Z",
     "iopub.status.idle": "2021-12-27T15:17:10.822595Z",
     "shell.execute_reply": "2021-12-27T15:17:10.821957Z",
     "shell.execute_reply.started": "2021-12-27T15:17:10.777935Z"
    }
   },
   "outputs": [],
   "source": [
    "%load_ext autoreload\n",
    "%autoreload 2"
   ]
  },
  {
   "cell_type": "code",
   "execution_count": 2,
   "id": "3fa094e9-cf8e-4fc2-af4b-4155b5592f75",
   "metadata": {
    "execution": {
     "iopub.execute_input": "2021-12-27T15:17:10.825504Z",
     "iopub.status.busy": "2021-12-27T15:17:10.824883Z",
     "iopub.status.idle": "2021-12-27T15:17:12.460155Z",
     "shell.execute_reply": "2021-12-27T15:17:12.459259Z",
     "shell.execute_reply.started": "2021-12-27T15:17:10.825474Z"
    },
    "tags": []
   },
   "outputs": [],
   "source": [
    "import re\n",
    "\n",
    "import numpy as np\n",
    "import pandas as pd\n",
    "import networkx as nx\n",
    "import matplotlib.pyplot as plt\n",
    "\n",
    "import vimure as vm\n",
    "from vimure.plot import plot_adjacency_matrix\n",
    "\n",
    "from sklearn.metrics import f1_score\n",
    "\n",
    "from plotnine import * \n",
    "from mizani.formatters import percent_format"
   ]
  },
  {
   "cell_type": "code",
   "execution_count": 3,
   "id": "7785cef8-ddce-48e8-9f17-5b67c03db76b",
   "metadata": {
    "execution": {
     "iopub.execute_input": "2021-12-27T15:17:12.463482Z",
     "iopub.status.busy": "2021-12-27T15:17:12.462439Z",
     "iopub.status.idle": "2021-12-27T15:17:13.485168Z",
     "shell.execute_reply": "2021-12-27T15:17:13.484068Z",
     "shell.execute_reply.started": "2021-12-27T15:17:12.463431Z"
    },
    "tags": []
   },
   "outputs": [],
   "source": [
    "# https://stackoverflow.com/a/59812588/843365\n",
    "!export PYTHONUNBUFFERED=1"
   ]
  },
  {
   "cell_type": "markdown",
   "id": "de40ed52-da35-4e20-bf42-aeaf7c6120ea",
   "metadata": {},
   "source": [
    "# Context \n",
    "\n",
    "\n",
    "\n",
    "\n",
    "\n",
    "We want to simulate two extreme scenarios to illustrate the capabilities of our model:\n",
    "\n",
    "**Under-reporters**\n",
    "\n",
    "\n",
    "A scenario in which there are two types of reporters: \n",
    "- $m_{\\text{regular}}$, those who accurately report ties $\\theta^l_{m_{\\text{regular}}} = 1.0$\n",
    "- $m_{\\text{under}}$, those who consistently under-report ties $\\theta^l_{m_{\\text{under}}} = 0.5$\n",
    "\n",
    "**Over-reporters**\n",
    "\n",
    "\n",
    "A scenario in which there are two types of reporters: \n",
    "- $m_{\\text{regular}}$, those who accurately report ties $\\theta^l_{m_{\\text{regular}}} = 1.0$\n",
    "- $m_{\\text{over}}$, those who consistently under-report ties $\\theta^l_{m_{\\text{over}}} = 50$"
   ]
  },
  {
   "cell_type": "markdown",
   "id": "53c89c2a-bbbc-4333-aeae-64baeaee5f18",
   "metadata": {},
   "source": [
    "# Setup"
   ]
  },
  {
   "cell_type": "code",
   "execution_count": 4,
   "id": "74ea4f64-7ea9-4cbe-8137-412bc760041b",
   "metadata": {
    "execution": {
     "iopub.execute_input": "2021-12-27T15:17:13.487617Z",
     "iopub.status.busy": "2021-12-27T15:17:13.487062Z",
     "iopub.status.idle": "2021-12-27T15:17:13.564031Z",
     "shell.execute_reply": "2021-12-27T15:17:13.562999Z",
     "shell.execute_reply.started": "2021-12-27T15:17:13.487564Z"
    },
    "tags": []
   },
   "outputs": [],
   "source": [
    "# Parameters related to the ground truth network. \n",
    "# Re-run with different seed or parameters to get a different Y\n",
    "gt_params = {\n",
    "    \"N\" : 100,\n",
    "    \"M\" : 100, \n",
    "    \"L\" : 1,\n",
    "    \"C\" : 2, \n",
    "    \"K\" : 2, \n",
    "    \"avg_degree\" : 10,\n",
    "    \"sparsify\" : True,\n",
    "    \"gt_network_seed\" : 2}\n",
    "\n",
    "\n",
    "# Percentage of reporters who exaggerate (either under- or over- reporting)\n",
    "THETA_RATIO_VALS = [\n",
    "    0.01,\n",
    "    0.02,\n",
    "    0.03,\n",
    "    0.05,\n",
    "    0.08,\n",
    "    0.10,\n",
    "    0.15,\n",
    "    0.20,\n",
    "    0.30,\n",
    "    0.40,\n",
    "    0.50,\n",
    "]\n",
    "\n",
    "seeds = np.arange(10)"
   ]
  },
  {
   "cell_type": "markdown",
   "id": "eb1b49ef-b79c-4dc5-8f0a-94b9462fd24b",
   "metadata": {},
   "source": [
    "This simulation is setup on the script experiments/unreliable_reporters.py.\n",
    "\n",
    "The expriment class replicates a scikit-learn structure to represent an experiment. By extending from sklearn, we can make better use of Grid Search and the library's metrics such as f1-score, mean absolute error, etc.\n"
   ]
  },
  {
   "cell_type": "code",
   "execution_count": 12,
   "id": "f05cd3ce-f01e-4644-bd2e-f8b53e63ef31",
   "metadata": {
    "execution": {
     "iopub.execute_input": "2021-12-27T15:55:55.061952Z",
     "iopub.status.busy": "2021-12-27T15:55:55.061144Z",
     "iopub.status.idle": "2021-12-27T15:55:55.129950Z",
     "shell.execute_reply": "2021-12-27T15:55:55.128666Z",
     "shell.execute_reply.started": "2021-12-27T15:55:55.061921Z"
    },
    "tags": []
   },
   "outputs": [],
   "source": [
    "import experiments.unreliable_reporters as experiment"
   ]
  },
  {
   "cell_type": "markdown",
   "id": "6230eca7-919c-4c9d-86e5-a1e8d3973c92",
   "metadata": {},
   "source": [
    "# Experiment with no mutuality $\\eta = 0$"
   ]
  },
  {
   "cell_type": "code",
   "execution_count": 5,
   "id": "51b06041-ed14-48ed-b233-911bff71065b",
   "metadata": {
    "execution": {
     "iopub.execute_input": "2021-12-27T15:17:13.566399Z",
     "iopub.status.busy": "2021-12-27T15:17:13.565872Z",
     "iopub.status.idle": "2021-12-27T15:25:00.310796Z",
     "shell.execute_reply": "2021-12-27T15:25:00.309548Z",
     "shell.execute_reply.started": "2021-12-27T15:17:13.566348Z"
    },
    "tags": []
   },
   "outputs": [
    {
     "name": "stderr",
     "output_type": "stream",
     "text": [
      "2021-12-27 15:17:13,620 - [PID  951] - experiments.unreliable    - INFO - Creating ground truth network with eta=0.00...\n",
      "2021-12-27 15:17:13,744 - [PID  951] - experiments.unreliable    - INFO - GMReciprocity took 0.12 seconds to run'\n"
     ]
    },
    {
     "name": "stdout",
     "output_type": "stream",
     "text": [
      "Fitting 1 folds for each of 440 candidates, totalling 440 fits\n"
     ]
    },
    {
     "name": "stderr",
     "output_type": "stream",
     "text": [
      "2021-12-27 15:24:56,222 - [PID  951] - experiment.UnreliableReportersExp - INFO - Building custom_theta with parameters: theta_ratio=0.01 & exaggeration_type=over\n",
      "2021-12-27 15:24:56,224 - [PID  951] - experiment.UnreliableReportersExp - INFO - Generating X with same eta as ground truth: eta=0.00\n",
      "2021-12-27 15:24:57,670 - [PID  951] - experiment.UnreliableReportersExp - INFO - Running ViMuRe model WITH mutuality...\n",
      "2021-12-27 15:25:00,291 - [PID  951] - experiment.UnreliableReportersExp - INFO - ViMuRe model took 2.62 seconds to run'\n",
      "2021-12-27 15:25:00,293 - [PID  951] - experiments.unreliable    - INFO - Grid search is complete after 7.78 minutes\n"
     ]
    }
   ],
   "source": [
    "# Set verbose=True if you like to see log of what is going on. Warning: This prints A LOT of logs \n",
    "\n",
    "grid_over, results_df_000 =\\\n",
    "    experiment.main(eta=0.0,\n",
    "                    theta_ratio_vals = THETA_RATIO_VALS,\n",
    "                    available_seeds = seeds, # This ensures we have 10 rounds of inference for every parameter combination\n",
    "                    exaggeration_type = [\"over\", \"under\"],\n",
    "    \n",
    "                    num_realisations=5,\n",
    "                    max_iter=10,\n",
    "                    n_jobs=8, # Number of CPU processors to use, set it to -1 to let it choose automatically\n",
    "                    save_output=False,\n",
    "                    verbose=False,\n",
    "                    **gt_params)"
   ]
  },
  {
   "cell_type": "code",
   "execution_count": 6,
   "id": "2f6a243f-a989-453a-b96a-0dcfce69caf8",
   "metadata": {
    "execution": {
     "iopub.execute_input": "2021-12-27T15:25:00.314185Z",
     "iopub.status.busy": "2021-12-27T15:25:00.313082Z",
     "iopub.status.idle": "2021-12-27T15:25:00.404778Z",
     "shell.execute_reply": "2021-12-27T15:25:00.403422Z",
     "shell.execute_reply.started": "2021-12-27T15:25:00.314058Z"
    }
   },
   "outputs": [
    {
     "data": {
      "text/html": [
       "<div>\n",
       "<style scoped>\n",
       "    .dataframe tbody tr th:only-of-type {\n",
       "        vertical-align: middle;\n",
       "    }\n",
       "\n",
       "    .dataframe tbody tr th {\n",
       "        vertical-align: top;\n",
       "    }\n",
       "\n",
       "    .dataframe thead th {\n",
       "        text-align: right;\n",
       "    }\n",
       "</style>\n",
       "<table border=\"1\" class=\"dataframe\">\n",
       "  <thead>\n",
       "    <tr style=\"text-align: right;\">\n",
       "      <th></th>\n",
       "      <th>param_exaggeration_type</th>\n",
       "      <th>param_mutuality</th>\n",
       "      <th>param_seed</th>\n",
       "      <th>param_theta_ratio</th>\n",
       "      <th>mean_test_f1</th>\n",
       "      <th>mean_test_mse</th>\n",
       "      <th>std_test_f1</th>\n",
       "      <th>std_test_mse</th>\n",
       "      <th>mean_fit_time</th>\n",
       "      <th>eta</th>\n",
       "    </tr>\n",
       "  </thead>\n",
       "  <tbody>\n",
       "    <tr>\n",
       "      <th>0</th>\n",
       "      <td>over</td>\n",
       "      <td>True</td>\n",
       "      <td>0</td>\n",
       "      <td>0.01</td>\n",
       "      <td>1.0</td>\n",
       "      <td>0.0</td>\n",
       "      <td>0.0</td>\n",
       "      <td>0.0</td>\n",
       "      <td>9.098729</td>\n",
       "      <td>0.0</td>\n",
       "    </tr>\n",
       "    <tr>\n",
       "      <th>1</th>\n",
       "      <td>over</td>\n",
       "      <td>True</td>\n",
       "      <td>0</td>\n",
       "      <td>0.02</td>\n",
       "      <td>1.0</td>\n",
       "      <td>0.0</td>\n",
       "      <td>0.0</td>\n",
       "      <td>0.0</td>\n",
       "      <td>9.075523</td>\n",
       "      <td>0.0</td>\n",
       "    </tr>\n",
       "    <tr>\n",
       "      <th>2</th>\n",
       "      <td>over</td>\n",
       "      <td>True</td>\n",
       "      <td>0</td>\n",
       "      <td>0.03</td>\n",
       "      <td>1.0</td>\n",
       "      <td>0.0</td>\n",
       "      <td>0.0</td>\n",
       "      <td>0.0</td>\n",
       "      <td>7.095894</td>\n",
       "      <td>0.0</td>\n",
       "    </tr>\n",
       "    <tr>\n",
       "      <th>3</th>\n",
       "      <td>over</td>\n",
       "      <td>True</td>\n",
       "      <td>0</td>\n",
       "      <td>0.05</td>\n",
       "      <td>1.0</td>\n",
       "      <td>0.0</td>\n",
       "      <td>0.0</td>\n",
       "      <td>0.0</td>\n",
       "      <td>9.905213</td>\n",
       "      <td>0.0</td>\n",
       "    </tr>\n",
       "    <tr>\n",
       "      <th>4</th>\n",
       "      <td>over</td>\n",
       "      <td>True</td>\n",
       "      <td>0</td>\n",
       "      <td>0.08</td>\n",
       "      <td>1.0</td>\n",
       "      <td>0.0</td>\n",
       "      <td>0.0</td>\n",
       "      <td>0.0</td>\n",
       "      <td>7.604710</td>\n",
       "      <td>0.0</td>\n",
       "    </tr>\n",
       "  </tbody>\n",
       "</table>\n",
       "</div>"
      ],
      "text/plain": [
       "  param_exaggeration_type param_mutuality param_seed  param_theta_ratio  \\\n",
       "0                    over            True          0               0.01   \n",
       "1                    over            True          0               0.02   \n",
       "2                    over            True          0               0.03   \n",
       "3                    over            True          0               0.05   \n",
       "4                    over            True          0               0.08   \n",
       "\n",
       "   mean_test_f1  mean_test_mse  std_test_f1  std_test_mse  mean_fit_time  eta  \n",
       "0           1.0            0.0          0.0           0.0       9.098729  0.0  \n",
       "1           1.0            0.0          0.0           0.0       9.075523  0.0  \n",
       "2           1.0            0.0          0.0           0.0       7.095894  0.0  \n",
       "3           1.0            0.0          0.0           0.0       9.905213  0.0  \n",
       "4           1.0            0.0          0.0           0.0       7.604710  0.0  "
      ]
     },
     "execution_count": 6,
     "metadata": {},
     "output_type": "execute_result"
    }
   ],
   "source": [
    "results_df_000.head()"
   ]
  },
  {
   "cell_type": "markdown",
   "id": "24729793-7055-497d-bd75-7507add15929",
   "metadata": {},
   "source": [
    "To replicate any specific result, refer back to **Notebook 02** to generate a synthetic network (Y, X) and run the model with the desired seed."
   ]
  },
  {
   "cell_type": "markdown",
   "id": "3d201fb2-4362-44d1-9e72-a5a34e60872f",
   "metadata": {},
   "source": [
    "# Experiment with some mutuality $\\eta=0.2$\n",
    "\n",
    "\n",
    "The cell below perform tests with under and over-reporting"
   ]
  },
  {
   "cell_type": "code",
   "execution_count": 7,
   "id": "861f1edf-2d10-4fd1-aa35-8ee7340e3764",
   "metadata": {
    "execution": {
     "iopub.execute_input": "2021-12-27T15:25:00.407982Z",
     "iopub.status.busy": "2021-12-27T15:25:00.406699Z",
     "iopub.status.idle": "2021-12-27T15:32:49.207033Z",
     "shell.execute_reply": "2021-12-27T15:32:49.206053Z",
     "shell.execute_reply.started": "2021-12-27T15:25:00.407925Z"
    },
    "tags": []
   },
   "outputs": [
    {
     "name": "stderr",
     "output_type": "stream",
     "text": [
      "2021-12-27 15:25:00,466 - [PID  951] - experiments.unreliable    - INFO - Creating ground truth network with eta=0.20...\n",
      "2021-12-27 15:25:00,591 - [PID  951] - experiments.unreliable    - INFO - GMReciprocity took 0.12 seconds to run'\n"
     ]
    },
    {
     "name": "stdout",
     "output_type": "stream",
     "text": [
      "Fitting 1 folds for each of 440 candidates, totalling 440 fits\n"
     ]
    },
    {
     "name": "stderr",
     "output_type": "stream",
     "text": [
      "2021-12-27 15:32:45,390 - [PID  951] - experiment.UnreliableReportersExp - INFO - Building custom_theta with parameters: theta_ratio=0.01 & exaggeration_type=over\n",
      "2021-12-27 15:32:45,392 - [PID  951] - experiment.UnreliableReportersExp - INFO - Generating X with same eta as ground truth: eta=0.20\n",
      "2021-12-27 15:32:46,753 - [PID  951] - experiment.UnreliableReportersExp - INFO - Running ViMuRe model WITH mutuality...\n",
      "2021-12-27 15:32:49,193 - [PID  951] - experiment.UnreliableReportersExp - INFO - ViMuRe model took 2.44 seconds to run'\n",
      "2021-12-27 15:32:49,194 - [PID  951] - experiments.unreliable    - INFO - Grid search is complete after 7.81 minutes\n"
     ]
    }
   ],
   "source": [
    "# Set verbose=True if you like to see log of what is going on. Warning: This prints A LOT of logs \n",
    "\n",
    "grid, results_df_020 =\\\n",
    "    experiment.main(eta=0.2,\n",
    "                    theta_ratio_vals = THETA_RATIO_VALS,\n",
    "                    available_seeds = seeds, # This ensures we have 10 rounds of inference for every parameter combination\n",
    "                    exaggeration_type = [\"under\", \"over\"],\n",
    "                                              \n",
    "\n",
    "                    num_realisations=5,\n",
    "                    max_iter=10,\n",
    "                    n_jobs=8, # Number of CPU processors to use, set it to -1 to let it choose automatically\n",
    "                    save_output=False,\n",
    "                    verbose=False,\n",
    "                    **gt_params)"
   ]
  },
  {
   "cell_type": "markdown",
   "id": "291eabdd-8fb6-4337-9719-75ae6ac4b82f",
   "metadata": {},
   "source": [
    "Retrieve the best performing model:"
   ]
  },
  {
   "cell_type": "markdown",
   "id": "b99a6df4-b2bf-44fb-a781-137aa414628c",
   "metadata": {},
   "source": [
    "# Experiment with more mutuality $\\eta=0.6$\n",
    "\n",
    "\n",
    "The cell below already perform tests with under and over-reporting"
   ]
  },
  {
   "cell_type": "code",
   "execution_count": 8,
   "id": "f25378e2-e2e7-4559-9346-846e0950c6df",
   "metadata": {
    "execution": {
     "iopub.execute_input": "2021-12-27T15:32:49.208968Z",
     "iopub.status.busy": "2021-12-27T15:32:49.208267Z",
     "iopub.status.idle": "2021-12-27T15:36:29.147432Z",
     "shell.execute_reply": "2021-12-27T15:36:29.146221Z",
     "shell.execute_reply.started": "2021-12-27T15:32:49.208944Z"
    },
    "tags": []
   },
   "outputs": [
    {
     "name": "stderr",
     "output_type": "stream",
     "text": [
      "2021-12-27 15:32:49,265 - [PID  951] - experiments.unreliable    - INFO - Creating ground truth network with eta=0.60...\n",
      "2021-12-27 15:32:49,383 - [PID  951] - experiments.unreliable    - INFO - GMReciprocity took 0.12 seconds to run'\n"
     ]
    },
    {
     "name": "stdout",
     "output_type": "stream",
     "text": [
      "Fitting 1 folds for each of 220 candidates, totalling 220 fits\n"
     ]
    },
    {
     "name": "stderr",
     "output_type": "stream",
     "text": [
      "2021-12-27 15:36:25,388 - [PID  951] - experiment.UnreliableReportersExp - INFO - Building custom_theta with parameters: theta_ratio=0.01 & exaggeration_type=under\n",
      "2021-12-27 15:36:25,390 - [PID  951] - experiment.UnreliableReportersExp - INFO - Generating X with same eta as ground truth: eta=0.60\n",
      "2021-12-27 15:36:26,753 - [PID  951] - experiment.UnreliableReportersExp - INFO - Running ViMuRe model WITH mutuality...\n",
      "2021-12-27 15:36:29,134 - [PID  951] - experiment.UnreliableReportersExp - INFO - ViMuRe model took 2.38 seconds to run'\n",
      "2021-12-27 15:36:29,135 - [PID  951] - experiments.unreliable    - INFO - Grid search is complete after 3.66 minutes\n"
     ]
    }
   ],
   "source": [
    "# Set verbose=True if you like to see log of what is going on. Warning: This prints A LOT of logs \n",
    "\n",
    "grid, results_df_060 =\\\n",
    "    experiment.main(eta=0.6,\n",
    "                    theta_ratio_vals = THETA_RATIO_VALS,\n",
    "                    available_seeds = seeds, # This ensures we have 10 rounds of inference for every parameter combination\n",
    "                    exaggeration_type = [\"under\"],\n",
    "                                              \n",
    "                    num_realisations=5,\n",
    "                    max_iter=10,\n",
    "                    n_jobs=8, # Number of CPU processors to use, set it to -1 to let it choose automatically\n",
    "                    save_output=False,\n",
    "                    verbose=False,\n",
    "                    **gt_params)"
   ]
  },
  {
   "cell_type": "markdown",
   "id": "bf13667f-70f5-4906-81df-16d7a236c222",
   "metadata": {},
   "source": [
    "# All together\n",
    "\n",
    "Combine the CSVs generated above to produce a single result/plot"
   ]
  },
  {
   "cell_type": "code",
   "execution_count": 9,
   "id": "cfbbcee8-84f1-4b8d-b3a7-29aa771a87ab",
   "metadata": {
    "execution": {
     "iopub.execute_input": "2021-12-27T15:36:29.149466Z",
     "iopub.status.busy": "2021-12-27T15:36:29.148741Z",
     "iopub.status.idle": "2021-12-27T15:36:29.217917Z",
     "shell.execute_reply": "2021-12-27T15:36:29.216928Z",
     "shell.execute_reply.started": "2021-12-27T15:36:29.149442Z"
    },
    "tags": []
   },
   "outputs": [],
   "source": [
    "def plot_F1_scores(results_df, metric=\"f1\"):\n",
    "    cols_rename = {col: re.sub(\"param\\_\", \"\", col) for col in results_df.columns.tolist() if col.startswith(\"param_\")}\n",
    "    cols_rename.update({\"param_mutuality\": \"model\"})\n",
    "    cols_rename.update({\"param_exaggeration_type\": \"exa\"})\n",
    "\n",
    "    group_cols = [\"eta\", \"exa\", \"theta_ratio\", \"model\"]\n",
    "\n",
    "    plot_df = results_df.rename(columns=cols_rename).groupby(group_cols)\n",
    "    plot_df = plot_df.apply(lambda x: pd.Series({\"mean_test_score\": x[f\"mean_test_{metric}\"].mean(),\"std_test_score\": x[f\"mean_test_{metric}\"].std()}))\n",
    "\n",
    "    plot_df = plot_df.reset_index()\n",
    "    plot_df[\"ymax\"] = plot_df['mean_test_score'] + plot_df['std_test_score']\n",
    "    plot_df[\"ymin\"] = plot_df['mean_test_score'] - plot_df['std_test_score']\n",
    "    cols = plot_df.columns\n",
    "\n",
    "    plot_df[\"model\"] = plot_df[\"model\"].apply(lambda x: r\"$ViMuRe_{T}$\" if x else r\"$ViMuRe_{F}$\")\n",
    "\n",
    "\n",
    "    g = (ggplot(plot_df.reset_index(), \n",
    "            aes(x='theta_ratio', \n",
    "                y='mean_test_score',\n",
    "                ymax='ymax',\n",
    "                ymin='ymin',\n",
    "                group='theta_ratio',\n",
    "                color='model',\n",
    "                fill='model',\n",
    "                shape='model')) + \n",
    "    #  geom_errorbar(width=None) + \n",
    "     geom_point(size=3, alpha=0.7) + \n",
    "    #  annotate(geom=\"text\", x=0.01, y=0.1, label=r\"$\\eta = $ %.2f\" % results_df[\"eta\"][0]) + \n",
    "     scale_x_continuous(name=r\"$\\theta_{ratio}$\", \n",
    "                        breaks=[0.01, 0.05, 0.1, 0.2, 0.3, 0.4, 0.5],  \n",
    "                        labels=percent_format(), \n",
    "                        limits=(min(THETA_RATIO_VALS), max(THETA_RATIO_VALS))) +\n",
    "     scale_fill_discrete(name=\" \") +\n",
    "     scale_shape_discrete(name=\" \") +\n",
    "     scale_color_discrete(name=\" \") +\n",
    "     scale_y_continuous(name=\"F1-score\", limits=(0, 1)) +\n",
    "     theme_bw() +\n",
    "     theme(figure_size=(6, 3), axis_text_x=element_text(size=7)) +\n",
    "     facet_grid(\"exa ~ eta\", labeller=\"label_both\") +\n",
    "     ggtitle(\"F1 scores for a fixed ground truth and 10 realisations of the X network + inference model\")\n",
    "    )\n",
    "\n",
    "    return g"
   ]
  },
  {
   "cell_type": "code",
   "execution_count": 11,
   "id": "96ddf9c4-053d-455b-895a-48d6c352f390",
   "metadata": {
    "execution": {
     "iopub.execute_input": "2021-12-27T15:46:36.294440Z",
     "iopub.status.busy": "2021-12-27T15:46:36.293686Z",
     "iopub.status.idle": "2021-12-27T15:46:37.979471Z",
     "shell.execute_reply": "2021-12-27T15:46:37.977936Z",
     "shell.execute_reply.started": "2021-12-27T15:46:36.294410Z"
    },
    "tags": []
   },
   "outputs": [
    {
     "data": {
      "image/png": "[encoded data removed]",
      "text/plain": [
       "<Figure size 900x500 with 6 Axes>"
      ]
     },
     "metadata": {},
     "output_type": "display_data"
    },
    {
     "data": {
      "text/plain": [
       "<ggplot: (8782967800049)>"
      ]
     },
     "execution_count": 11,
     "metadata": {},
     "output_type": "execute_result"
    }
   ],
   "source": [
    "results_df = pd.concat([results_df_000, results_df_020, results_df_060])\n",
    "\n",
    "results_df[\"eta\"] = results_df[\"eta\"].astype(float)\n",
    "\n",
    "g = plot_F1_scores(results_df) + theme(figure_size=(9, 5))\n",
    "# ggsave(g, filename=\"/mnt/data/exp_unreliable_reporters_f1_scores.png\")\n",
    "\n",
    "g"
   ]
  }
 ],
 "metadata": {
  "kernelspec": {
   "display_name": "Python 3 (ipykernel)",
   "language": "python",
   "name": "python3"
  },
  "language_info": {
   "codemirror_mode": {
    "name": "ipython",
    "version": 3
   },
   "file_extension": ".py",
   "mimetype": "text/x-python",
   "name": "python",
   "nbconvert_exporter": "python",
   "pygments_lexer": "ipython3",
   "version": "3.9.6"
  },
  "toc-autonumbering": true
 },
 "nbformat": 4,
 "nbformat_minor": 5
}
