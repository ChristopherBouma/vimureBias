{
 "cells": [
  {
   "attachments": {},
   "cell_type": "markdown",
   "metadata": {},
   "source": [
    "**OBJECTIVE:** Assess the feasibility of building a VIMuRe model using OECD data.\n",
    "\n"
   ]
  },
  {
   "attachments": {},
   "cell_type": "markdown",
   "metadata": {},
   "source": [
    "**Import libraries**"
   ]
  },
  {
   "cell_type": "code",
   "execution_count": 61,
   "metadata": {},
   "outputs": [],
   "source": [
    "%matplotlib inline"
   ]
  },
  {
   "cell_type": "code",
   "execution_count": 31,
   "metadata": {},
   "outputs": [],
   "source": [
    "import openpyxl\n",
    "import pandas as pd\n",
    "import vimure as vm"
   ]
  },
  {
   "attachments": {},
   "cell_type": "markdown",
   "metadata": {},
   "source": [
    "# 1. The data\n",
    "\n",
    "## 1.1 How to download the data\n",
    "\n",
    "1. Head to OECD Stats and look for the [Balanced International Trade in Services (2005-2021)](https://stats.oecd.org/Index.aspx?DataSetCode=BATIS_EBOPS2010) data set\n",
    "2. Click 'Export' then 'Related files' and click on 'Bulk download' to download a file called `OECD-WTO_BATIS_BPM6_April2023_bulk.zip`\n",
    "3. Unpack the zip file to and move the unpacked files to your `data` folder. You will find two files:\n",
    "    - `OECD-WTO_BATIS_BPM6_April2023_bulk.csv` (1.32 GB)\n",
    "    - `OECD-WTO_BATIS_BPM6_April2023_codes.xlsx` (32 KB)"
   ]
  },
  {
   "cell_type": "code",
   "execution_count": 32,
   "metadata": {},
   "outputs": [],
   "source": [
    "# Set the folder where the data is stored\n",
    "DATA_FOLDER = '../../data/OECD'\n",
    "\n",
    "batis_data_filename  = f'{DATA_FOLDER}/OECD-WTO_BATIS_BPM6_April2023_bulk.csv'"
   ]
  },
  {
   "attachments": {},
   "cell_type": "markdown",
   "metadata": {},
   "source": [
    "## 1.2 First contacts with the data"
   ]
  },
  {
   "cell_type": "code",
   "execution_count": 39,
   "metadata": {},
   "outputs": [
    {
     "data": {
      "text/html": [
       "<div>\n",
       "<style scoped>\n",
       "    .dataframe tbody tr th:only-of-type {\n",
       "        vertical-align: middle;\n",
       "    }\n",
       "\n",
       "    .dataframe tbody tr th {\n",
       "        vertical-align: top;\n",
       "    }\n",
       "\n",
       "    .dataframe thead th {\n",
       "        text-align: right;\n",
       "    }\n",
       "</style>\n",
       "<table border=\"1\" class=\"dataframe\">\n",
       "  <thead>\n",
       "    <tr style=\"text-align: right;\">\n",
       "      <th></th>\n",
       "      <th>Reporter</th>\n",
       "      <th>type_Reporter</th>\n",
       "      <th>Partner</th>\n",
       "      <th>type_Partner</th>\n",
       "      <th>Flow</th>\n",
       "      <th>Item_code</th>\n",
       "      <th>type_Item</th>\n",
       "      <th>Year</th>\n",
       "      <th>Reported_value</th>\n",
       "      <th>Final_value</th>\n",
       "      <th>Methodology</th>\n",
       "      <th>Balanced_value</th>\n",
       "    </tr>\n",
       "  </thead>\n",
       "  <tbody>\n",
       "    <tr>\n",
       "      <th>0</th>\n",
       "      <td>ABW</td>\n",
       "      <td>c</td>\n",
       "      <td>AFG</td>\n",
       "      <td>c</td>\n",
       "      <td>EXP</td>\n",
       "      <td>S</td>\n",
       "      <td>s</td>\n",
       "      <td>2005</td>\n",
       "      <td>NaN</td>\n",
       "      <td>0.193868</td>\n",
       "      <td>M1.3</td>\n",
       "      <td>0.098872</td>\n",
       "    </tr>\n",
       "    <tr>\n",
       "      <th>1</th>\n",
       "      <td>ABW</td>\n",
       "      <td>c</td>\n",
       "      <td>AFG</td>\n",
       "      <td>c</td>\n",
       "      <td>IMP</td>\n",
       "      <td>S</td>\n",
       "      <td>s</td>\n",
       "      <td>2005</td>\n",
       "      <td>NaN</td>\n",
       "      <td>0.092933</td>\n",
       "      <td>M1.4</td>\n",
       "      <td>0.069085</td>\n",
       "    </tr>\n",
       "    <tr>\n",
       "      <th>2</th>\n",
       "      <td>ABW</td>\n",
       "      <td>c</td>\n",
       "      <td>AFG</td>\n",
       "      <td>c</td>\n",
       "      <td>EXP</td>\n",
       "      <td>S</td>\n",
       "      <td>s</td>\n",
       "      <td>2006</td>\n",
       "      <td>NaN</td>\n",
       "      <td>0.196892</td>\n",
       "      <td>M1.3</td>\n",
       "      <td>0.104561</td>\n",
       "    </tr>\n",
       "    <tr>\n",
       "      <th>3</th>\n",
       "      <td>ABW</td>\n",
       "      <td>c</td>\n",
       "      <td>AFG</td>\n",
       "      <td>c</td>\n",
       "      <td>IMP</td>\n",
       "      <td>S</td>\n",
       "      <td>s</td>\n",
       "      <td>2006</td>\n",
       "      <td>NaN</td>\n",
       "      <td>0.099563</td>\n",
       "      <td>M1.4</td>\n",
       "      <td>0.074507</td>\n",
       "    </tr>\n",
       "    <tr>\n",
       "      <th>4</th>\n",
       "      <td>ABW</td>\n",
       "      <td>c</td>\n",
       "      <td>AFG</td>\n",
       "      <td>c</td>\n",
       "      <td>EXP</td>\n",
       "      <td>S</td>\n",
       "      <td>s</td>\n",
       "      <td>2007</td>\n",
       "      <td>NaN</td>\n",
       "      <td>0.230675</td>\n",
       "      <td>M1.3</td>\n",
       "      <td>0.116994</td>\n",
       "    </tr>\n",
       "    <tr>\n",
       "      <th>...</th>\n",
       "      <td>...</td>\n",
       "      <td>...</td>\n",
       "      <td>...</td>\n",
       "      <td>...</td>\n",
       "      <td>...</td>\n",
       "      <td>...</td>\n",
       "      <td>...</td>\n",
       "      <td>...</td>\n",
       "      <td>...</td>\n",
       "      <td>...</td>\n",
       "      <td>...</td>\n",
       "      <td>...</td>\n",
       "    </tr>\n",
       "    <tr>\n",
       "      <th>23941333</th>\n",
       "      <td>ZWE</td>\n",
       "      <td>c</td>\n",
       "      <td>ZMB</td>\n",
       "      <td>c</td>\n",
       "      <td>EXP</td>\n",
       "      <td>SPX4</td>\n",
       "      <td>d</td>\n",
       "      <td>2019</td>\n",
       "      <td>NaN</td>\n",
       "      <td>0.000000</td>\n",
       "      <td>A</td>\n",
       "      <td>0.040000</td>\n",
       "    </tr>\n",
       "    <tr>\n",
       "      <th>23941334</th>\n",
       "      <td>ZWE</td>\n",
       "      <td>c</td>\n",
       "      <td>ZMB</td>\n",
       "      <td>c</td>\n",
       "      <td>IMP</td>\n",
       "      <td>SPX4</td>\n",
       "      <td>d</td>\n",
       "      <td>2020</td>\n",
       "      <td>NaN</td>\n",
       "      <td>0.030000</td>\n",
       "      <td>A</td>\n",
       "      <td>0.000200</td>\n",
       "    </tr>\n",
       "    <tr>\n",
       "      <th>23941335</th>\n",
       "      <td>ZWE</td>\n",
       "      <td>c</td>\n",
       "      <td>ZMB</td>\n",
       "      <td>c</td>\n",
       "      <td>EXP</td>\n",
       "      <td>SPX4</td>\n",
       "      <td>d</td>\n",
       "      <td>2020</td>\n",
       "      <td>NaN</td>\n",
       "      <td>0.000000</td>\n",
       "      <td>A</td>\n",
       "      <td>0.060000</td>\n",
       "    </tr>\n",
       "    <tr>\n",
       "      <th>23941336</th>\n",
       "      <td>ZWE</td>\n",
       "      <td>c</td>\n",
       "      <td>ZMB</td>\n",
       "      <td>c</td>\n",
       "      <td>IMP</td>\n",
       "      <td>SPX4</td>\n",
       "      <td>d</td>\n",
       "      <td>2021</td>\n",
       "      <td>NaN</td>\n",
       "      <td>0.040000</td>\n",
       "      <td>A</td>\n",
       "      <td>0.000200</td>\n",
       "    </tr>\n",
       "    <tr>\n",
       "      <th>23941337</th>\n",
       "      <td>ZWE</td>\n",
       "      <td>c</td>\n",
       "      <td>ZMB</td>\n",
       "      <td>c</td>\n",
       "      <td>EXP</td>\n",
       "      <td>SPX4</td>\n",
       "      <td>d</td>\n",
       "      <td>2021</td>\n",
       "      <td>NaN</td>\n",
       "      <td>0.000000</td>\n",
       "      <td>A</td>\n",
       "      <td>0.070000</td>\n",
       "    </tr>\n",
       "  </tbody>\n",
       "</table>\n",
       "<p>23941338 rows × 12 columns</p>\n",
       "</div>"
      ],
      "text/plain": [
       "         Reporter type_Reporter Partner type_Partner Flow Item_code type_Item  \\\n",
       "0             ABW             c     AFG            c  EXP         S         s   \n",
       "1             ABW             c     AFG            c  IMP         S         s   \n",
       "2             ABW             c     AFG            c  EXP         S         s   \n",
       "3             ABW             c     AFG            c  IMP         S         s   \n",
       "4             ABW             c     AFG            c  EXP         S         s   \n",
       "...           ...           ...     ...          ...  ...       ...       ...   \n",
       "23941333      ZWE             c     ZMB            c  EXP      SPX4         d   \n",
       "23941334      ZWE             c     ZMB            c  IMP      SPX4         d   \n",
       "23941335      ZWE             c     ZMB            c  EXP      SPX4         d   \n",
       "23941336      ZWE             c     ZMB            c  IMP      SPX4         d   \n",
       "23941337      ZWE             c     ZMB            c  EXP      SPX4         d   \n",
       "\n",
       "          Year  Reported_value  Final_value Methodology  Balanced_value  \n",
       "0         2005             NaN     0.193868        M1.3        0.098872  \n",
       "1         2005             NaN     0.092933        M1.4        0.069085  \n",
       "2         2006             NaN     0.196892        M1.3        0.104561  \n",
       "3         2006             NaN     0.099563        M1.4        0.074507  \n",
       "4         2007             NaN     0.230675        M1.3        0.116994  \n",
       "...        ...             ...          ...         ...             ...  \n",
       "23941333  2019             NaN     0.000000           A        0.040000  \n",
       "23941334  2020             NaN     0.030000           A        0.000200  \n",
       "23941335  2020             NaN     0.000000           A        0.060000  \n",
       "23941336  2021             NaN     0.040000           A        0.000200  \n",
       "23941337  2021             NaN     0.000000           A        0.070000  \n",
       "\n",
       "[23941338 rows x 12 columns]"
      ]
     },
     "execution_count": 39,
     "metadata": {},
     "output_type": "execute_result"
    }
   ],
   "source": [
    "batis_df = pd.read_csv(batis_data_filename)\n",
    "batis_df"
   ]
  },
  {
   "attachments": {},
   "cell_type": "markdown",
   "metadata": {},
   "source": [
    "# 2. Pre-processing "
   ]
  },
  {
   "attachments": {},
   "cell_type": "markdown",
   "metadata": {},
   "source": [
    "**The original data looks like this:**"
   ]
  },
  {
   "cell_type": "code",
   "execution_count": 40,
   "metadata": {},
   "outputs": [
    {
     "data": {
      "text/html": [
       "<div>\n",
       "<style scoped>\n",
       "    .dataframe tbody tr th:only-of-type {\n",
       "        vertical-align: middle;\n",
       "    }\n",
       "\n",
       "    .dataframe tbody tr th {\n",
       "        vertical-align: top;\n",
       "    }\n",
       "\n",
       "    .dataframe thead th {\n",
       "        text-align: right;\n",
       "    }\n",
       "</style>\n",
       "<table border=\"1\" class=\"dataframe\">\n",
       "  <thead>\n",
       "    <tr style=\"text-align: right;\">\n",
       "      <th></th>\n",
       "      <th>Reporter</th>\n",
       "      <th>type_Reporter</th>\n",
       "      <th>Partner</th>\n",
       "      <th>type_Partner</th>\n",
       "      <th>Flow</th>\n",
       "      <th>Item_code</th>\n",
       "      <th>type_Item</th>\n",
       "      <th>Year</th>\n",
       "      <th>Reported_value</th>\n",
       "      <th>Final_value</th>\n",
       "      <th>Methodology</th>\n",
       "      <th>Balanced_value</th>\n",
       "    </tr>\n",
       "  </thead>\n",
       "  <tbody>\n",
       "    <tr>\n",
       "      <th>0</th>\n",
       "      <td>ABW</td>\n",
       "      <td>c</td>\n",
       "      <td>AFG</td>\n",
       "      <td>c</td>\n",
       "      <td>EXP</td>\n",
       "      <td>S</td>\n",
       "      <td>s</td>\n",
       "      <td>2005</td>\n",
       "      <td>NaN</td>\n",
       "      <td>0.193868</td>\n",
       "      <td>M1.3</td>\n",
       "      <td>0.098872</td>\n",
       "    </tr>\n",
       "    <tr>\n",
       "      <th>1</th>\n",
       "      <td>ABW</td>\n",
       "      <td>c</td>\n",
       "      <td>AFG</td>\n",
       "      <td>c</td>\n",
       "      <td>IMP</td>\n",
       "      <td>S</td>\n",
       "      <td>s</td>\n",
       "      <td>2005</td>\n",
       "      <td>NaN</td>\n",
       "      <td>0.092933</td>\n",
       "      <td>M1.4</td>\n",
       "      <td>0.069085</td>\n",
       "    </tr>\n",
       "    <tr>\n",
       "      <th>2</th>\n",
       "      <td>ABW</td>\n",
       "      <td>c</td>\n",
       "      <td>AFG</td>\n",
       "      <td>c</td>\n",
       "      <td>EXP</td>\n",
       "      <td>S</td>\n",
       "      <td>s</td>\n",
       "      <td>2006</td>\n",
       "      <td>NaN</td>\n",
       "      <td>0.196892</td>\n",
       "      <td>M1.3</td>\n",
       "      <td>0.104561</td>\n",
       "    </tr>\n",
       "    <tr>\n",
       "      <th>3</th>\n",
       "      <td>ABW</td>\n",
       "      <td>c</td>\n",
       "      <td>AFG</td>\n",
       "      <td>c</td>\n",
       "      <td>IMP</td>\n",
       "      <td>S</td>\n",
       "      <td>s</td>\n",
       "      <td>2006</td>\n",
       "      <td>NaN</td>\n",
       "      <td>0.099563</td>\n",
       "      <td>M1.4</td>\n",
       "      <td>0.074507</td>\n",
       "    </tr>\n",
       "    <tr>\n",
       "      <th>4</th>\n",
       "      <td>ABW</td>\n",
       "      <td>c</td>\n",
       "      <td>AFG</td>\n",
       "      <td>c</td>\n",
       "      <td>EXP</td>\n",
       "      <td>S</td>\n",
       "      <td>s</td>\n",
       "      <td>2007</td>\n",
       "      <td>NaN</td>\n",
       "      <td>0.230675</td>\n",
       "      <td>M1.3</td>\n",
       "      <td>0.116994</td>\n",
       "    </tr>\n",
       "  </tbody>\n",
       "</table>\n",
       "</div>"
      ],
      "text/plain": [
       "  Reporter type_Reporter Partner type_Partner Flow Item_code type_Item  Year  \\\n",
       "0      ABW             c     AFG            c  EXP         S         s  2005   \n",
       "1      ABW             c     AFG            c  IMP         S         s  2005   \n",
       "2      ABW             c     AFG            c  EXP         S         s  2006   \n",
       "3      ABW             c     AFG            c  IMP         S         s  2006   \n",
       "4      ABW             c     AFG            c  EXP         S         s  2007   \n",
       "\n",
       "   Reported_value  Final_value Methodology  Balanced_value  \n",
       "0             NaN     0.193868        M1.3        0.098872  \n",
       "1             NaN     0.092933        M1.4        0.069085  \n",
       "2             NaN     0.196892        M1.3        0.104561  \n",
       "3             NaN     0.099563        M1.4        0.074507  \n",
       "4             NaN     0.230675        M1.3        0.116994  "
      ]
     },
     "execution_count": 40,
     "metadata": {},
     "output_type": "execute_result"
    }
   ],
   "source": [
    "batis_df.head()"
   ]
  },
  {
   "attachments": {},
   "cell_type": "markdown",
   "metadata": {},
   "source": [
    "Focus on just the columns we need:"
   ]
  },
  {
   "cell_type": "code",
   "execution_count": 41,
   "metadata": {},
   "outputs": [],
   "source": [
    "selected_cols = ['Reporter', 'Partner', 'Flow', 'Year', 'Final_value']\n",
    "drop_cols = [col for col in batis_df.columns if col not in selected_cols]\n",
    "\n",
    "batis_df.drop(columns=drop_cols, inplace=True)"
   ]
  },
  {
   "attachments": {},
   "cell_type": "markdown",
   "metadata": {},
   "source": [
    "Create `ego` and `alter` columns, [as required by VIMuRe](https://latentnetworks.github.io/vimure/latest/tutorials/R/tutorial01-data-preparation.html):"
   ]
  },
  {
   "cell_type": "code",
   "execution_count": 42,
   "metadata": {},
   "outputs": [],
   "source": [
    "batis_df['ego']   = batis_df.apply(lambda x: x['Reporter'] if x['Flow'] == 'EXP' else x['Partner'], axis=1)\n",
    "batis_df['alter'] = batis_df.apply(lambda x: x['Partner'] if x['Flow'] == 'EXP' else x['Reporter'], axis=1)\n",
    "batis_df['layer'] = 'trade'"
   ]
  },
  {
   "attachments": {},
   "cell_type": "markdown",
   "metadata": {},
   "source": [
    "Rename the other columns:"
   ]
  },
  {
   "cell_type": "code",
   "execution_count": 44,
   "metadata": {},
   "outputs": [],
   "source": [
    "cols_mapping = {\n",
    "    'Reporter': 'reporter',\n",
    "    'Flow': 'tie_type',\n",
    "    'Final_value': 'weight',\n",
    "    'Year': 'year'\n",
    "}\n",
    "\n",
    "batis_df.rename(columns=cols_mapping, inplace=True)"
   ]
  },
  {
   "attachments": {},
   "cell_type": "markdown",
   "metadata": {},
   "source": [
    "Put data frame in the same order present in the tutorials:"
   ]
  },
  {
   "cell_type": "code",
   "execution_count": 45,
   "metadata": {},
   "outputs": [
    {
     "data": {
      "text/html": [
       "<div>\n",
       "<style scoped>\n",
       "    .dataframe tbody tr th:only-of-type {\n",
       "        vertical-align: middle;\n",
       "    }\n",
       "\n",
       "    .dataframe tbody tr th {\n",
       "        vertical-align: top;\n",
       "    }\n",
       "\n",
       "    .dataframe thead th {\n",
       "        text-align: right;\n",
       "    }\n",
       "</style>\n",
       "<table border=\"1\" class=\"dataframe\">\n",
       "  <thead>\n",
       "    <tr style=\"text-align: right;\">\n",
       "      <th></th>\n",
       "      <th>ego</th>\n",
       "      <th>alter</th>\n",
       "      <th>reporter</th>\n",
       "      <th>tie_type</th>\n",
       "      <th>layer</th>\n",
       "      <th>weight</th>\n",
       "      <th>year</th>\n",
       "    </tr>\n",
       "  </thead>\n",
       "  <tbody>\n",
       "    <tr>\n",
       "      <th>0</th>\n",
       "      <td>ABW</td>\n",
       "      <td>AFG</td>\n",
       "      <td>ABW</td>\n",
       "      <td>EXP</td>\n",
       "      <td>trade</td>\n",
       "      <td>0.193868</td>\n",
       "      <td>2005</td>\n",
       "    </tr>\n",
       "    <tr>\n",
       "      <th>1</th>\n",
       "      <td>AFG</td>\n",
       "      <td>ABW</td>\n",
       "      <td>ABW</td>\n",
       "      <td>IMP</td>\n",
       "      <td>trade</td>\n",
       "      <td>0.092933</td>\n",
       "      <td>2005</td>\n",
       "    </tr>\n",
       "    <tr>\n",
       "      <th>2</th>\n",
       "      <td>ABW</td>\n",
       "      <td>AFG</td>\n",
       "      <td>ABW</td>\n",
       "      <td>EXP</td>\n",
       "      <td>trade</td>\n",
       "      <td>0.196892</td>\n",
       "      <td>2006</td>\n",
       "    </tr>\n",
       "    <tr>\n",
       "      <th>3</th>\n",
       "      <td>AFG</td>\n",
       "      <td>ABW</td>\n",
       "      <td>ABW</td>\n",
       "      <td>IMP</td>\n",
       "      <td>trade</td>\n",
       "      <td>0.099563</td>\n",
       "      <td>2006</td>\n",
       "    </tr>\n",
       "    <tr>\n",
       "      <th>4</th>\n",
       "      <td>ABW</td>\n",
       "      <td>AFG</td>\n",
       "      <td>ABW</td>\n",
       "      <td>EXP</td>\n",
       "      <td>trade</td>\n",
       "      <td>0.230675</td>\n",
       "      <td>2007</td>\n",
       "    </tr>\n",
       "  </tbody>\n",
       "</table>\n",
       "</div>"
      ],
      "text/plain": [
       "   ego alter reporter tie_type  layer    weight  year\n",
       "0  ABW   AFG      ABW      EXP  trade  0.193868  2005\n",
       "1  AFG   ABW      ABW      IMP  trade  0.092933  2005\n",
       "2  ABW   AFG      ABW      EXP  trade  0.196892  2006\n",
       "3  AFG   ABW      ABW      IMP  trade  0.099563  2006\n",
       "4  ABW   AFG      ABW      EXP  trade  0.230675  2007"
      ]
     },
     "execution_count": 45,
     "metadata": {},
     "output_type": "execute_result"
    }
   ],
   "source": [
    "cols_order = ['ego', 'alter', 'reporter', 'tie_type', 'layer', 'weight', 'year']\n",
    "\n",
    "batis_df = batis_df[cols_order].copy()\n",
    "batis_df.head()\n"
   ]
  },
  {
   "attachments": {},
   "cell_type": "markdown",
   "metadata": {},
   "source": [
    "# 3. High-level analysis"
   ]
  },
  {
   "attachments": {},
   "cell_type": "markdown",
   "metadata": {},
   "source": [
    "## 3.1 Summary Statistics"
   ]
  },
  {
   "cell_type": "code",
   "execution_count": 52,
   "metadata": {},
   "outputs": [],
   "source": [
    "all_countries = set(batis_df['ego'].unique()).union(set(batis_df['alter'].unique()))\n",
    "all_reporters = set(batis_df['reporter'].unique())"
   ]
  },
  {
   "cell_type": "code",
   "execution_count": 53,
   "metadata": {},
   "outputs": [
    {
     "name": "stdout",
     "output_type": "stream",
     "text": [
      "In total, there are 209 countries in the dataset, of which 206 are reporters.\n"
     ]
    }
   ],
   "source": [
    "print(f\"In total, there are {len(all_countries)} countries in the dataset, of which {len(all_reporters)} are reporters.\")"
   ]
  },
  {
   "attachments": {},
   "cell_type": "markdown",
   "metadata": {},
   "source": [
    "What are the countries that do not feature as reporters in the data set?"
   ]
  },
  {
   "cell_type": "code",
   "execution_count": 54,
   "metadata": {},
   "outputs": [
    {
     "data": {
      "text/plain": [
       "{'E_EU', 'NOC', 'RWD'}"
      ]
     },
     "execution_count": 54,
     "metadata": {},
     "output_type": "execute_result"
    }
   ],
   "source": [
    "all_countries.difference(all_reporters)"
   ]
  },
  {
   "attachments": {},
   "cell_type": "markdown",
   "metadata": {},
   "source": [
    "From the data dictionary, we get that:\n",
    "\n",
    "| **Code**   | **Description**           |\n",
    "|------------|---------------------------|\n",
    "| E_EU\t     | Extra-EU trade            |\n",
    "| NOC        | Non-OECD member economies |\n",
    "| RWD        | Rest of the world         |"
   ]
  },
  {
   "attachments": {},
   "cell_type": "markdown",
   "metadata": {},
   "source": [
    "## 3.2 Simple plots"
   ]
  },
  {
   "cell_type": "code",
   "execution_count": 66,
   "metadata": {},
   "outputs": [
    {
     "data": {
      "text/plain": [
       "<Axes: title={'center': 'Total trade flows by year and type of trade'}, xlabel='year'>"
      ]
     },
     "execution_count": 66,
     "metadata": {},
     "output_type": "execute_result"
    },
    {
     "data": {
      "image/png": "[encoded data removed]",
      "text/plain": [
       "<Figure size 1500x500 with 1 Axes>"
      ]
     },
     "metadata": {},
     "output_type": "display_data"
    }
   ],
   "source": [
    "(batis_df.groupby(['year', 'tie_type'])['weight'].sum().unstack()\n",
    "         .plot(figsize=(15, 5), title='Total trade flows by year and type of trade'))"
   ]
  },
  {
   "cell_type": "code",
   "execution_count": 68,
   "metadata": {},
   "outputs": [
    {
     "data": {
      "text/plain": [
       "<Axes: title={'center': 'The number of countries reporting trade flows over time is constant'}, xlabel='year'>"
      ]
     },
     "execution_count": 68,
     "metadata": {},
     "output_type": "execute_result"
    },
    {
     "data": {
      "image/png": "[encoded data removed]",
      "text/plain": [
       "<Figure size 1500x500 with 1 Axes>"
      ]
     },
     "metadata": {},
     "output_type": "display_data"
    }
   ],
   "source": [
    "(batis_df.groupby(['year', 'tie_type'])['reporter'].nunique().reset_index()\n",
    "         .pivot(index='year', columns='tie_type', values='reporter')\n",
    "         .plot(kind='bar', stacked=False, figsize=(15, 5), \n",
    "               title='The number of countries reporting trade flows over time is constant'))"
   ]
  },
  {
   "cell_type": "code",
   "execution_count": 74,
   "metadata": {},
   "outputs": [
    {
     "ename": "ValueError",
     "evalue": "The truth value of a Series is ambiguous. Use a.empty, a.bool(), a.item(), a.any() or a.all().",
     "output_type": "error",
     "traceback": [
      "\u001b[1;31m---------------------------------------------------------------------------\u001b[0m",
      "\u001b[1;31mValueError\u001b[0m                                Traceback (most recent call last)",
      "\u001b[1;32m~\\AppData\\Local\\Temp\\ipykernel_17260\\309788530.py\u001b[0m in \u001b[0;36m?\u001b[1;34m()\u001b[0m\n\u001b[1;32m----> 1\u001b[1;33m (batis_df.assign(self_reporter = 'self-reported' if batis_df['ego'] == batis_df['reporter'] else 'not-self-reported')\n\u001b[0m\u001b[0;32m      2\u001b[0m          .groupby(['year', 'ego', 'self_reporter'])['weight'].sum().unstack())\n",
      "\u001b[1;32mc:\\Users\\Jon\\miniconda3\\envs\\venv-vimure\\lib\\site-packages\\pandas\\core\\generic.py\u001b[0m in \u001b[0;36m?\u001b[1;34m(self)\u001b[0m\n\u001b[0;32m   1525\u001b[0m     \u001b[1;33m@\u001b[0m\u001b[0mfinal\u001b[0m\u001b[1;33m\u001b[0m\u001b[1;33m\u001b[0m\u001b[0m\n\u001b[0;32m   1526\u001b[0m     \u001b[1;32mdef\u001b[0m \u001b[0m__nonzero__\u001b[0m\u001b[1;33m(\u001b[0m\u001b[0mself\u001b[0m\u001b[1;33m)\u001b[0m \u001b[1;33m->\u001b[0m \u001b[0mNoReturn\u001b[0m\u001b[1;33m:\u001b[0m\u001b[1;33m\u001b[0m\u001b[1;33m\u001b[0m\u001b[0m\n\u001b[1;32m-> 1527\u001b[1;33m         raise ValueError(\n\u001b[0m\u001b[0;32m   1528\u001b[0m             \u001b[1;34mf\"The truth value of a {type(self).__name__} is ambiguous. \"\u001b[0m\u001b[1;33m\u001b[0m\u001b[1;33m\u001b[0m\u001b[0m\n\u001b[0;32m   1529\u001b[0m             \u001b[1;34m\"Use a.empty, a.bool(), a.item(), a.any() or a.all().\"\u001b[0m\u001b[1;33m\u001b[0m\u001b[1;33m\u001b[0m\u001b[0m\n\u001b[0;32m   1530\u001b[0m         )\n",
      "\u001b[1;31mValueError\u001b[0m: The truth value of a Series is ambiguous. Use a.empty, a.bool(), a.item(), a.any() or a.all()."
     ]
    }
   ],
   "source": [
    "(batis_df.assign(self_reporter = 'self-reported' if batis_df['ego'] == batis_df['reporter'] else 'not-self-reported')\n",
    "         .groupby(['year', 'ego', 'self_reporter'])['weight'].sum().unstack())"
   ]
  }
 ],
 "metadata": {
  "kernelspec": {
   "display_name": "venv-vimure",
   "language": "python",
   "name": "python3"
  },
  "language_info": {
   "codemirror_mode": {
    "name": "ipython",
    "version": 3
   },
   "file_extension": ".py",
   "mimetype": "text/x-python",
   "name": "python",
   "nbconvert_exporter": "python",
   "pygments_lexer": "ipython3",
   "version": "3.10.8"
  },
  "orig_nbformat": 4
 },
 "nbformat": 4,
 "nbformat_minor": 2
}
