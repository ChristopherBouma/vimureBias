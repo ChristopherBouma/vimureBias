{
 "cells": [
  {
   "attachments": {},
   "cell_type": "markdown",
   "metadata": {},
   "source": [
    "**OBJECTIVE:** Assess the feasibility of building a VIMuRe model using OECD data.\n",
    "\n"
   ]
  },
  {
   "attachments": {},
   "cell_type": "markdown",
   "metadata": {},
   "source": [
    "**Import libraries**"
   ]
  },
  {
   "cell_type": "code",
   "execution_count": 1,
   "metadata": {},
   "outputs": [],
   "source": [
    "%matplotlib inline"
   ]
  },
  {
   "cell_type": "code",
   "execution_count": 2,
   "metadata": {},
   "outputs": [],
   "source": [
    "import openpyxl\n",
    "import pandas as pd\n",
    "import vimure as vm"
   ]
  },
  {
   "attachments": {},
   "cell_type": "markdown",
   "metadata": {},
   "source": [
    "# 1. The data\n",
    "\n",
    "## 1.1 How to download the data\n",
    "\n",
    "1. Head to OECD Stats and look for the [Balanced International Trade in Services (2005-2021)](https://stats.oecd.org/Index.aspx?DataSetCode=BATIS_EBOPS2010) data set\n",
    "2. Click 'Export' then 'Related files' and click on 'Bulk download' to download a file called `OECD-WTO_BATIS_BPM6_April2023_bulk.zip`\n",
    "3. Unpack the zip file to and move the unpacked files to your `data` folder. You will find two files:\n",
    "    - `OECD-WTO_BATIS_BPM6_April2023_bulk.csv` (1.32 GB)\n",
    "    - `OECD-WTO_BATIS_BPM6_April2023_codes.xlsx` (32 KB)"
   ]
  },
  {
   "cell_type": "code",
   "execution_count": 3,
   "metadata": {},
   "outputs": [],
   "source": [
    "# Set the folder where the data is stored\n",
    "DATA_FOLDER = '../../data/OECD'\n",
    "\n",
    "batis_data_filename  = f'{DATA_FOLDER}/OECD-WTO_BATIS_BPM6_April2023_bulk.csv'"
   ]
  },
  {
   "attachments": {},
   "cell_type": "markdown",
   "metadata": {},
   "source": [
    "## 1.2 First contacts with the data"
   ]
  },
  {
   "cell_type": "code",
   "execution_count": 4,
   "metadata": {},
   "outputs": [
    {
     "data": {
      "text/html": [
       "<div>\n",
       "<style scoped>\n",
       "    .dataframe tbody tr th:only-of-type {\n",
       "        vertical-align: middle;\n",
       "    }\n",
       "\n",
       "    .dataframe tbody tr th {\n",
       "        vertical-align: top;\n",
       "    }\n",
       "\n",
       "    .dataframe thead th {\n",
       "        text-align: right;\n",
       "    }\n",
       "</style>\n",
       "<table border=\"1\" class=\"dataframe\">\n",
       "  <thead>\n",
       "    <tr style=\"text-align: right;\">\n",
       "      <th></th>\n",
       "      <th>Reporter</th>\n",
       "      <th>type_Reporter</th>\n",
       "      <th>Partner</th>\n",
       "      <th>type_Partner</th>\n",
       "      <th>Flow</th>\n",
       "      <th>Item_code</th>\n",
       "      <th>type_Item</th>\n",
       "      <th>Year</th>\n",
       "      <th>Reported_value</th>\n",
       "      <th>Final_value</th>\n",
       "      <th>Methodology</th>\n",
       "      <th>Balanced_value</th>\n",
       "    </tr>\n",
       "  </thead>\n",
       "  <tbody>\n",
       "    <tr>\n",
       "      <th>0</th>\n",
       "      <td>ABW</td>\n",
       "      <td>c</td>\n",
       "      <td>AFG</td>\n",
       "      <td>c</td>\n",
       "      <td>EXP</td>\n",
       "      <td>S</td>\n",
       "      <td>s</td>\n",
       "      <td>2005</td>\n",
       "      <td>NaN</td>\n",
       "      <td>0.193868</td>\n",
       "      <td>M1.3</td>\n",
       "      <td>0.098872</td>\n",
       "    </tr>\n",
       "    <tr>\n",
       "      <th>1</th>\n",
       "      <td>ABW</td>\n",
       "      <td>c</td>\n",
       "      <td>AFG</td>\n",
       "      <td>c</td>\n",
       "      <td>IMP</td>\n",
       "      <td>S</td>\n",
       "      <td>s</td>\n",
       "      <td>2005</td>\n",
       "      <td>NaN</td>\n",
       "      <td>0.092933</td>\n",
       "      <td>M1.4</td>\n",
       "      <td>0.069085</td>\n",
       "    </tr>\n",
       "    <tr>\n",
       "      <th>2</th>\n",
       "      <td>ABW</td>\n",
       "      <td>c</td>\n",
       "      <td>AFG</td>\n",
       "      <td>c</td>\n",
       "      <td>EXP</td>\n",
       "      <td>S</td>\n",
       "      <td>s</td>\n",
       "      <td>2006</td>\n",
       "      <td>NaN</td>\n",
       "      <td>0.196892</td>\n",
       "      <td>M1.3</td>\n",
       "      <td>0.104561</td>\n",
       "    </tr>\n",
       "    <tr>\n",
       "      <th>3</th>\n",
       "      <td>ABW</td>\n",
       "      <td>c</td>\n",
       "      <td>AFG</td>\n",
       "      <td>c</td>\n",
       "      <td>IMP</td>\n",
       "      <td>S</td>\n",
       "      <td>s</td>\n",
       "      <td>2006</td>\n",
       "      <td>NaN</td>\n",
       "      <td>0.099563</td>\n",
       "      <td>M1.4</td>\n",
       "      <td>0.074507</td>\n",
       "    </tr>\n",
       "    <tr>\n",
       "      <th>4</th>\n",
       "      <td>ABW</td>\n",
       "      <td>c</td>\n",
       "      <td>AFG</td>\n",
       "      <td>c</td>\n",
       "      <td>EXP</td>\n",
       "      <td>S</td>\n",
       "      <td>s</td>\n",
       "      <td>2007</td>\n",
       "      <td>NaN</td>\n",
       "      <td>0.230675</td>\n",
       "      <td>M1.3</td>\n",
       "      <td>0.116994</td>\n",
       "    </tr>\n",
       "    <tr>\n",
       "      <th>...</th>\n",
       "      <td>...</td>\n",
       "      <td>...</td>\n",
       "      <td>...</td>\n",
       "      <td>...</td>\n",
       "      <td>...</td>\n",
       "      <td>...</td>\n",
       "      <td>...</td>\n",
       "      <td>...</td>\n",
       "      <td>...</td>\n",
       "      <td>...</td>\n",
       "      <td>...</td>\n",
       "      <td>...</td>\n",
       "    </tr>\n",
       "    <tr>\n",
       "      <th>23941333</th>\n",
       "      <td>ZWE</td>\n",
       "      <td>c</td>\n",
       "      <td>ZMB</td>\n",
       "      <td>c</td>\n",
       "      <td>EXP</td>\n",
       "      <td>SPX4</td>\n",
       "      <td>d</td>\n",
       "      <td>2019</td>\n",
       "      <td>NaN</td>\n",
       "      <td>0.000000</td>\n",
       "      <td>A</td>\n",
       "      <td>0.040000</td>\n",
       "    </tr>\n",
       "    <tr>\n",
       "      <th>23941334</th>\n",
       "      <td>ZWE</td>\n",
       "      <td>c</td>\n",
       "      <td>ZMB</td>\n",
       "      <td>c</td>\n",
       "      <td>IMP</td>\n",
       "      <td>SPX4</td>\n",
       "      <td>d</td>\n",
       "      <td>2020</td>\n",
       "      <td>NaN</td>\n",
       "      <td>0.030000</td>\n",
       "      <td>A</td>\n",
       "      <td>0.000200</td>\n",
       "    </tr>\n",
       "    <tr>\n",
       "      <th>23941335</th>\n",
       "      <td>ZWE</td>\n",
       "      <td>c</td>\n",
       "      <td>ZMB</td>\n",
       "      <td>c</td>\n",
       "      <td>EXP</td>\n",
       "      <td>SPX4</td>\n",
       "      <td>d</td>\n",
       "      <td>2020</td>\n",
       "      <td>NaN</td>\n",
       "      <td>0.000000</td>\n",
       "      <td>A</td>\n",
       "      <td>0.060000</td>\n",
       "    </tr>\n",
       "    <tr>\n",
       "      <th>23941336</th>\n",
       "      <td>ZWE</td>\n",
       "      <td>c</td>\n",
       "      <td>ZMB</td>\n",
       "      <td>c</td>\n",
       "      <td>IMP</td>\n",
       "      <td>SPX4</td>\n",
       "      <td>d</td>\n",
       "      <td>2021</td>\n",
       "      <td>NaN</td>\n",
       "      <td>0.040000</td>\n",
       "      <td>A</td>\n",
       "      <td>0.000200</td>\n",
       "    </tr>\n",
       "    <tr>\n",
       "      <th>23941337</th>\n",
       "      <td>ZWE</td>\n",
       "      <td>c</td>\n",
       "      <td>ZMB</td>\n",
       "      <td>c</td>\n",
       "      <td>EXP</td>\n",
       "      <td>SPX4</td>\n",
       "      <td>d</td>\n",
       "      <td>2021</td>\n",
       "      <td>NaN</td>\n",
       "      <td>0.000000</td>\n",
       "      <td>A</td>\n",
       "      <td>0.070000</td>\n",
       "    </tr>\n",
       "  </tbody>\n",
       "</table>\n",
       "<p>23941338 rows × 12 columns</p>\n",
       "</div>"
      ],
      "text/plain": [
       "         Reporter type_Reporter Partner type_Partner Flow Item_code type_Item  \\\n",
       "0             ABW             c     AFG            c  EXP         S         s   \n",
       "1             ABW             c     AFG            c  IMP         S         s   \n",
       "2             ABW             c     AFG            c  EXP         S         s   \n",
       "3             ABW             c     AFG            c  IMP         S         s   \n",
       "4             ABW             c     AFG            c  EXP         S         s   \n",
       "...           ...           ...     ...          ...  ...       ...       ...   \n",
       "23941333      ZWE             c     ZMB            c  EXP      SPX4         d   \n",
       "23941334      ZWE             c     ZMB            c  IMP      SPX4         d   \n",
       "23941335      ZWE             c     ZMB            c  EXP      SPX4         d   \n",
       "23941336      ZWE             c     ZMB            c  IMP      SPX4         d   \n",
       "23941337      ZWE             c     ZMB            c  EXP      SPX4         d   \n",
       "\n",
       "          Year  Reported_value  Final_value Methodology  Balanced_value  \n",
       "0         2005             NaN     0.193868        M1.3        0.098872  \n",
       "1         2005             NaN     0.092933        M1.4        0.069085  \n",
       "2         2006             NaN     0.196892        M1.3        0.104561  \n",
       "3         2006             NaN     0.099563        M1.4        0.074507  \n",
       "4         2007             NaN     0.230675        M1.3        0.116994  \n",
       "...        ...             ...          ...         ...             ...  \n",
       "23941333  2019             NaN     0.000000           A        0.040000  \n",
       "23941334  2020             NaN     0.030000           A        0.000200  \n",
       "23941335  2020             NaN     0.000000           A        0.060000  \n",
       "23941336  2021             NaN     0.040000           A        0.000200  \n",
       "23941337  2021             NaN     0.000000           A        0.070000  \n",
       "\n",
       "[23941338 rows x 12 columns]"
      ]
     },
     "execution_count": 4,
     "metadata": {},
     "output_type": "execute_result"
    }
   ],
   "source": [
    "batis_df = pd.read_csv(batis_data_filename)\n",
    "batis_df"
   ]
  },
  {
   "attachments": {},
   "cell_type": "markdown",
   "metadata": {},
   "source": [
    "# 2. Data cleaning decisions"
   ]
  },
  {
   "attachments": {},
   "cell_type": "markdown",
   "metadata": {},
   "source": [
    "**The original data looks like this:**"
   ]
  },
  {
   "cell_type": "code",
   "execution_count": 5,
   "metadata": {},
   "outputs": [
    {
     "data": {
      "text/html": [
       "<div>\n",
       "<style scoped>\n",
       "    .dataframe tbody tr th:only-of-type {\n",
       "        vertical-align: middle;\n",
       "    }\n",
       "\n",
       "    .dataframe tbody tr th {\n",
       "        vertical-align: top;\n",
       "    }\n",
       "\n",
       "    .dataframe thead th {\n",
       "        text-align: right;\n",
       "    }\n",
       "</style>\n",
       "<table border=\"1\" class=\"dataframe\">\n",
       "  <thead>\n",
       "    <tr style=\"text-align: right;\">\n",
       "      <th></th>\n",
       "      <th>Reporter</th>\n",
       "      <th>type_Reporter</th>\n",
       "      <th>Partner</th>\n",
       "      <th>type_Partner</th>\n",
       "      <th>Flow</th>\n",
       "      <th>Item_code</th>\n",
       "      <th>type_Item</th>\n",
       "      <th>Year</th>\n",
       "      <th>Reported_value</th>\n",
       "      <th>Final_value</th>\n",
       "      <th>Methodology</th>\n",
       "      <th>Balanced_value</th>\n",
       "    </tr>\n",
       "  </thead>\n",
       "  <tbody>\n",
       "    <tr>\n",
       "      <th>0</th>\n",
       "      <td>ABW</td>\n",
       "      <td>c</td>\n",
       "      <td>AFG</td>\n",
       "      <td>c</td>\n",
       "      <td>EXP</td>\n",
       "      <td>S</td>\n",
       "      <td>s</td>\n",
       "      <td>2005</td>\n",
       "      <td>NaN</td>\n",
       "      <td>0.193868</td>\n",
       "      <td>M1.3</td>\n",
       "      <td>0.098872</td>\n",
       "    </tr>\n",
       "    <tr>\n",
       "      <th>1</th>\n",
       "      <td>ABW</td>\n",
       "      <td>c</td>\n",
       "      <td>AFG</td>\n",
       "      <td>c</td>\n",
       "      <td>IMP</td>\n",
       "      <td>S</td>\n",
       "      <td>s</td>\n",
       "      <td>2005</td>\n",
       "      <td>NaN</td>\n",
       "      <td>0.092933</td>\n",
       "      <td>M1.4</td>\n",
       "      <td>0.069085</td>\n",
       "    </tr>\n",
       "    <tr>\n",
       "      <th>2</th>\n",
       "      <td>ABW</td>\n",
       "      <td>c</td>\n",
       "      <td>AFG</td>\n",
       "      <td>c</td>\n",
       "      <td>EXP</td>\n",
       "      <td>S</td>\n",
       "      <td>s</td>\n",
       "      <td>2006</td>\n",
       "      <td>NaN</td>\n",
       "      <td>0.196892</td>\n",
       "      <td>M1.3</td>\n",
       "      <td>0.104561</td>\n",
       "    </tr>\n",
       "    <tr>\n",
       "      <th>3</th>\n",
       "      <td>ABW</td>\n",
       "      <td>c</td>\n",
       "      <td>AFG</td>\n",
       "      <td>c</td>\n",
       "      <td>IMP</td>\n",
       "      <td>S</td>\n",
       "      <td>s</td>\n",
       "      <td>2006</td>\n",
       "      <td>NaN</td>\n",
       "      <td>0.099563</td>\n",
       "      <td>M1.4</td>\n",
       "      <td>0.074507</td>\n",
       "    </tr>\n",
       "    <tr>\n",
       "      <th>4</th>\n",
       "      <td>ABW</td>\n",
       "      <td>c</td>\n",
       "      <td>AFG</td>\n",
       "      <td>c</td>\n",
       "      <td>EXP</td>\n",
       "      <td>S</td>\n",
       "      <td>s</td>\n",
       "      <td>2007</td>\n",
       "      <td>NaN</td>\n",
       "      <td>0.230675</td>\n",
       "      <td>M1.3</td>\n",
       "      <td>0.116994</td>\n",
       "    </tr>\n",
       "  </tbody>\n",
       "</table>\n",
       "</div>"
      ],
      "text/plain": [
       "  Reporter type_Reporter Partner type_Partner Flow Item_code type_Item  Year  \\\n",
       "0      ABW             c     AFG            c  EXP         S         s  2005   \n",
       "1      ABW             c     AFG            c  IMP         S         s  2005   \n",
       "2      ABW             c     AFG            c  EXP         S         s  2006   \n",
       "3      ABW             c     AFG            c  IMP         S         s  2006   \n",
       "4      ABW             c     AFG            c  EXP         S         s  2007   \n",
       "\n",
       "   Reported_value  Final_value Methodology  Balanced_value  \n",
       "0             NaN     0.193868        M1.3        0.098872  \n",
       "1             NaN     0.092933        M1.4        0.069085  \n",
       "2             NaN     0.196892        M1.3        0.104561  \n",
       "3             NaN     0.099563        M1.4        0.074507  \n",
       "4             NaN     0.230675        M1.3        0.116994  "
      ]
     },
     "execution_count": 5,
     "metadata": {},
     "output_type": "execute_result"
    }
   ],
   "source": [
    "batis_df.head()"
   ]
  },
  {
   "attachments": {},
   "cell_type": "markdown",
   "metadata": {},
   "source": [
    "## Restrict to countries, instead of groups of countries:"
   ]
  },
  {
   "cell_type": "code",
   "execution_count": 6,
   "metadata": {},
   "outputs": [],
   "source": [
    "batis_df.query('type_Reporter == \"c\" and type_Partner == \"c\"', inplace=True)"
   ]
  },
  {
   "attachments": {},
   "cell_type": "markdown",
   "metadata": {},
   "source": [
    "## Restrict to standard BPM6 service item (and discard derived items):"
   ]
  },
  {
   "cell_type": "code",
   "execution_count": 7,
   "metadata": {},
   "outputs": [
    {
     "data": {
      "text/plain": [
       "s    18035368\n",
       "d     5549344\n",
       "Name: type_Item, dtype: int64"
      ]
     },
     "execution_count": 7,
     "metadata": {},
     "output_type": "execute_result"
    }
   ],
   "source": [
    "batis_df.type_Item.value_counts()"
   ]
  },
  {
   "cell_type": "code",
   "execution_count": 8,
   "metadata": {},
   "outputs": [],
   "source": [
    "batis_df.query('type_Item == \"s\"', inplace=True)"
   ]
  },
  {
   "attachments": {},
   "cell_type": "markdown",
   "metadata": {},
   "source": [
    "## Don't do anything with the Methodology column:"
   ]
  },
  {
   "cell_type": "code",
   "execution_count": 9,
   "metadata": {},
   "outputs": [
    {
     "data": {
      "text/plain": [
       "M2.1       5347177\n",
       "M2.2       4119471\n",
       "W0         3124021\n",
       "M8.2        778979\n",
       "E0          755657\n",
       "M2.3        673226\n",
       "R_EURO      508308\n",
       "Z           458848\n",
       "E8.2        362009\n",
       "M1.1        352781\n",
       "M2.0        326951\n",
       "M1.3        248527\n",
       "M1.4        178787\n",
       "E8.0        177077\n",
       "M1.2        137815\n",
       "R_OECD      118822\n",
       "M8.3         78736\n",
       "R_NAT.1      77005\n",
       "E8.1         58544\n",
       "R_NAT        56129\n",
       "R_EUEQ       45624\n",
       "M1.5         23912\n",
       "M8.0         16094\n",
       "E1            5896\n",
       "R_UNSD        4382\n",
       "E6             590\n",
       "Name: Methodology, dtype: int64"
      ]
     },
     "execution_count": 9,
     "metadata": {},
     "output_type": "execute_result"
    }
   ],
   "source": [
    "# It's very diverse\n",
    "batis_df['Methodology'].value_counts()"
   ]
  },
  {
   "attachments": {},
   "cell_type": "markdown",
   "metadata": {},
   "source": [
    "# 3. Data Preprocessing\n",
    "\n",
    "Get the data in the format we want for VIMuRe."
   ]
  },
  {
   "attachments": {},
   "cell_type": "markdown",
   "metadata": {},
   "source": [
    "Focus on just the columns we need:"
   ]
  },
  {
   "cell_type": "code",
   "execution_count": 10,
   "metadata": {},
   "outputs": [],
   "source": [
    "selected_cols = ['Reporter', 'Partner', 'Flow', 'Year', 'Final_value']\n",
    "drop_cols = [col for col in batis_df.columns if col not in selected_cols]\n",
    "\n",
    "batis_df.drop(columns=drop_cols, inplace=True)"
   ]
  },
  {
   "attachments": {},
   "cell_type": "markdown",
   "metadata": {},
   "source": [
    "Split the data frame into exports and imports so we can efficiently assign `ego` and `alter` columns in the format [required by VIMuRe](https://latentnetworks.github.io/vimure/latest/tutorials/R/tutorial01-data-preparation.html):"
   ]
  },
  {
   "cell_type": "code",
   "execution_count": 11,
   "metadata": {},
   "outputs": [],
   "source": [
    "exp_df = batis_df[batis_df['Flow'] == 'EXP']\n",
    "imp_df = batis_df[batis_df['Flow'] == 'IMP']"
   ]
  },
  {
   "cell_type": "code",
   "execution_count": 12,
   "metadata": {},
   "outputs": [],
   "source": [
    "common_cols_mapping = {\n",
    "    'Reporter': 'reporter',\n",
    "    'Flow': 'tie_type',\n",
    "    'Final_value': 'weight',\n",
    "    'Year': 'year'\n",
    "}\n",
    "\n",
    "exp_df = (exp_df.rename(columns=common_cols_mapping)\n",
    "                .assign(ego=lambda x: x['reporter'])\n",
    "                .rename(columns={'Partner': 'alter'})\n",
    "                .copy())\n",
    "imp_df = (imp_df.rename(columns=common_cols_mapping)\n",
    "                .assign(alter=lambda x: x['reporter'])\n",
    "                .rename(columns={'Partner': 'ego'})\n",
    "                .copy())"
   ]
  },
  {
   "attachments": {},
   "cell_type": "markdown",
   "metadata": {},
   "source": [
    "Recreate `batis_df`:"
   ]
  },
  {
   "cell_type": "code",
   "execution_count": 13,
   "metadata": {},
   "outputs": [],
   "source": [
    "batis_df = pd.concat([exp_df, imp_df], ignore_index=True)\n",
    "batis_df['layer'] = 'trade'\n",
    "del exp_df, imp_df"
   ]
  },
  {
   "attachments": {},
   "cell_type": "markdown",
   "metadata": {},
   "source": [
    "Put data frame in the same order present in the tutorials:"
   ]
  },
  {
   "cell_type": "code",
   "execution_count": 14,
   "metadata": {},
   "outputs": [
    {
     "data": {
      "text/html": [
       "<div>\n",
       "<style scoped>\n",
       "    .dataframe tbody tr th:only-of-type {\n",
       "        vertical-align: middle;\n",
       "    }\n",
       "\n",
       "    .dataframe tbody tr th {\n",
       "        vertical-align: top;\n",
       "    }\n",
       "\n",
       "    .dataframe thead th {\n",
       "        text-align: right;\n",
       "    }\n",
       "</style>\n",
       "<table border=\"1\" class=\"dataframe\">\n",
       "  <thead>\n",
       "    <tr style=\"text-align: right;\">\n",
       "      <th></th>\n",
       "      <th>ego</th>\n",
       "      <th>alter</th>\n",
       "      <th>reporter</th>\n",
       "      <th>tie_type</th>\n",
       "      <th>layer</th>\n",
       "      <th>weight</th>\n",
       "      <th>year</th>\n",
       "    </tr>\n",
       "  </thead>\n",
       "  <tbody>\n",
       "    <tr>\n",
       "      <th>0</th>\n",
       "      <td>ABW</td>\n",
       "      <td>AFG</td>\n",
       "      <td>ABW</td>\n",
       "      <td>EXP</td>\n",
       "      <td>trade</td>\n",
       "      <td>0.193868</td>\n",
       "      <td>2005</td>\n",
       "    </tr>\n",
       "    <tr>\n",
       "      <th>1</th>\n",
       "      <td>ABW</td>\n",
       "      <td>AFG</td>\n",
       "      <td>ABW</td>\n",
       "      <td>EXP</td>\n",
       "      <td>trade</td>\n",
       "      <td>0.196892</td>\n",
       "      <td>2006</td>\n",
       "    </tr>\n",
       "    <tr>\n",
       "      <th>2</th>\n",
       "      <td>ABW</td>\n",
       "      <td>AFG</td>\n",
       "      <td>ABW</td>\n",
       "      <td>EXP</td>\n",
       "      <td>trade</td>\n",
       "      <td>0.230675</td>\n",
       "      <td>2007</td>\n",
       "    </tr>\n",
       "    <tr>\n",
       "      <th>3</th>\n",
       "      <td>ABW</td>\n",
       "      <td>AFG</td>\n",
       "      <td>ABW</td>\n",
       "      <td>EXP</td>\n",
       "      <td>trade</td>\n",
       "      <td>0.264227</td>\n",
       "      <td>2008</td>\n",
       "    </tr>\n",
       "    <tr>\n",
       "      <th>4</th>\n",
       "      <td>ABW</td>\n",
       "      <td>AFG</td>\n",
       "      <td>ABW</td>\n",
       "      <td>EXP</td>\n",
       "      <td>trade</td>\n",
       "      <td>0.280256</td>\n",
       "      <td>2009</td>\n",
       "    </tr>\n",
       "  </tbody>\n",
       "</table>\n",
       "</div>"
      ],
      "text/plain": [
       "   ego alter reporter tie_type  layer    weight  year\n",
       "0  ABW   AFG      ABW      EXP  trade  0.193868  2005\n",
       "1  ABW   AFG      ABW      EXP  trade  0.196892  2006\n",
       "2  ABW   AFG      ABW      EXP  trade  0.230675  2007\n",
       "3  ABW   AFG      ABW      EXP  trade  0.264227  2008\n",
       "4  ABW   AFG      ABW      EXP  trade  0.280256  2009"
      ]
     },
     "execution_count": 14,
     "metadata": {},
     "output_type": "execute_result"
    }
   ],
   "source": [
    "cols_order = ['ego', 'alter', 'reporter', 'tie_type', 'layer', 'weight', 'year']\n",
    "\n",
    "batis_df = batis_df[cols_order].copy()\n",
    "batis_df.head()\n"
   ]
  },
  {
   "attachments": {},
   "cell_type": "markdown",
   "metadata": {},
   "source": [
    "# 3. High-level analysis"
   ]
  },
  {
   "attachments": {},
   "cell_type": "markdown",
   "metadata": {},
   "source": [
    "## 3.1 Summary Statistics"
   ]
  },
  {
   "cell_type": "code",
   "execution_count": 15,
   "metadata": {},
   "outputs": [],
   "source": [
    "all_countries = set(batis_df['ego'].unique()).union(set(batis_df['alter'].unique()))\n",
    "all_reporters = set(batis_df['reporter'].unique())"
   ]
  },
  {
   "cell_type": "code",
   "execution_count": 16,
   "metadata": {},
   "outputs": [
    {
     "name": "stdout",
     "output_type": "stream",
     "text": [
      "In total, there are 203 countries in the dataset, of which 202 are reporters.\n"
     ]
    }
   ],
   "source": [
    "print(f\"In total, there are {len(all_countries)} countries in the dataset, of which {len(all_reporters)} are reporters.\")"
   ]
  },
  {
   "attachments": {},
   "cell_type": "markdown",
   "metadata": {},
   "source": [
    "What are the countries that do not feature as reporters in the data set?"
   ]
  },
  {
   "cell_type": "code",
   "execution_count": 17,
   "metadata": {},
   "outputs": [
    {
     "data": {
      "text/plain": [
       "{'RWD'}"
      ]
     },
     "execution_count": 17,
     "metadata": {},
     "output_type": "execute_result"
    }
   ],
   "source": [
    "all_countries.difference(all_reporters)"
   ]
  },
  {
   "attachments": {},
   "cell_type": "markdown",
   "metadata": {},
   "source": [
    "From the data dictionary, we get that:\n",
    "\n",
    "| **Code**   | **Description**           |\n",
    "|------------|---------------------------|\n",
    "| E_EU\t     | Extra-EU trade            |\n",
    "| NOC        | Non-OECD member economies |\n",
    "| RWD        | Rest of the world         |"
   ]
  },
  {
   "attachments": {},
   "cell_type": "markdown",
   "metadata": {},
   "source": [
    "## 3.2 Simple plots"
   ]
  },
  {
   "cell_type": "code",
   "execution_count": 18,
   "metadata": {},
   "outputs": [
    {
     "data": {
      "text/plain": [
       "<Axes: title={'center': 'Total trade flows by year and type of trade'}, xlabel='year'>"
      ]
     },
     "execution_count": 18,
     "metadata": {},
     "output_type": "execute_result"
    },
    {
     "data": {
      "image/png": "[encoded data removed]",
      "text/plain": [
       "<Figure size 1500x500 with 1 Axes>"
      ]
     },
     "metadata": {},
     "output_type": "display_data"
    }
   ],
   "source": [
    "(batis_df.groupby(['year', 'tie_type'])['weight'].sum().unstack()\n",
    "         .plot(figsize=(15, 5), title='Total trade flows by year and type of trade'))"
   ]
  },
  {
   "cell_type": "code",
   "execution_count": 19,
   "metadata": {},
   "outputs": [
    {
     "data": {
      "text/plain": [
       "<Axes: title={'center': 'The number of countries reporting trade flows over time is constant'}, xlabel='year'>"
      ]
     },
     "execution_count": 19,
     "metadata": {},
     "output_type": "execute_result"
    },
    {
     "data": {
      "image/png": "[encoded data removed]",
      "text/plain": [
       "<Figure size 1500x500 with 1 Axes>"
      ]
     },
     "metadata": {},
     "output_type": "display_data"
    }
   ],
   "source": [
    "(batis_df.groupby(['year', 'tie_type'])['reporter'].nunique().reset_index()\n",
    "         .pivot(index='year', columns='tie_type', values='reporter')\n",
    "         .plot(kind='bar', stacked=False, figsize=(15, 5), \n",
    "               title='The number of countries reporting trade flows over time is constant'))"
   ]
  },
  {
   "cell_type": "code",
   "execution_count": 20,
   "metadata": {},
   "outputs": [],
   "source": [
    "batis_df['self_reported'] = (batis_df['ego'] == batis_df['reporter'])"
   ]
  },
  {
   "cell_type": "code",
   "execution_count": 25,
   "metadata": {},
   "outputs": [
    {
     "data": {
      "text/plain": [
       "<Axes: title={'center': 'Discrepancy between self-reported and reported trade flows (top 4 discrepant countries)<br/>Positive = more reported EXP'}, xlabel='year'>"
      ]
     },
     "execution_count": 25,
     "metadata": {},
     "output_type": "execute_result"
    },
    {
     "data": {
      "image/png": "[encoded data removed]",
      "text/plain": [
       "<Figure size 1500x500 with 1 Axes>"
      ]
     },
     "metadata": {},
     "output_type": "display_data"
    }
   ],
   "source": [
    "(batis_df.groupby(['year', 'ego', 'self_reported'])['weight'].sum()\n",
    "         .groupby(['year', 'ego']).diff()\n",
    "         .groupby(['year', 'ego']).last().reset_index()\n",
    "         .query('ego == \"USA\" or ego == \"DEU\" or ego == \"GBR\" or ego == \"HKG\"')\n",
    "        #  .groupby(['ego'])[['weight']].sum().abs()\n",
    "         .pivot(index='year', columns='ego', values='weight')\n",
    "         .plot(kind='bar', stacked=False, figsize=(15, 5),\n",
    "               title='Discrepancy between self-reported and reported trade flows (top 4 discrepant countries)<br/>Positive = more reported EXP')\n",
    ")#.sort_values(by='weight', ascending=False)"
   ]
  }
 ],
 "metadata": {
  "kernelspec": {
   "display_name": "venv-vimure",
   "language": "python",
   "name": "python3"
  },
  "language_info": {
   "codemirror_mode": {
    "name": "ipython",
    "version": 3
   },
   "file_extension": ".py",
   "mimetype": "text/x-python",
   "name": "python",
   "nbconvert_exporter": "python",
   "pygments_lexer": "ipython3",
   "version": "3.10.8"
  },
  "orig_nbformat": 4
 },
 "nbformat": 4,
 "nbformat_minor": 2
}
